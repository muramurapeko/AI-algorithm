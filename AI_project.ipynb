{
 "cells": [
  {
   "cell_type": "code",
   "execution_count": 1189,
   "metadata": {},
   "outputs": [],
   "source": [
    "import pandas as pd\n",
    "import numpy as np\n",
    "import matplotlib as plt\n",
    "import time\n",
    "import random\n",
    "\n"
   ]
  },
  {
   "cell_type": "code",
   "execution_count": 1190,
   "metadata": {},
   "outputs": [
    {
     "data": {
      "text/html": [
       "<div>\n",
       "<style scoped>\n",
       "    .dataframe tbody tr th:only-of-type {\n",
       "        vertical-align: middle;\n",
       "    }\n",
       "\n",
       "    .dataframe tbody tr th {\n",
       "        vertical-align: top;\n",
       "    }\n",
       "\n",
       "    .dataframe thead th {\n",
       "        text-align: right;\n",
       "    }\n",
       "</style>\n",
       "<table border=\"1\" class=\"dataframe\">\n",
       "  <thead>\n",
       "    <tr style=\"text-align: right;\">\n",
       "      <th></th>\n",
       "      <th>x</th>\n",
       "      <th>class</th>\n",
       "    </tr>\n",
       "  </thead>\n",
       "  <tbody>\n",
       "    <tr>\n",
       "      <th>0</th>\n",
       "      <td>0.700561</td>\n",
       "      <td>a</td>\n",
       "    </tr>\n",
       "    <tr>\n",
       "      <th>1</th>\n",
       "      <td>0.848185</td>\n",
       "      <td>a</td>\n",
       "    </tr>\n",
       "    <tr>\n",
       "      <th>2</th>\n",
       "      <td>1.769825</td>\n",
       "      <td>a</td>\n",
       "    </tr>\n",
       "    <tr>\n",
       "      <th>3</th>\n",
       "      <td>2.207230</td>\n",
       "      <td>b</td>\n",
       "    </tr>\n",
       "    <tr>\n",
       "      <th>4</th>\n",
       "      <td>2.313038</td>\n",
       "      <td>a</td>\n",
       "    </tr>\n",
       "    <tr>\n",
       "      <th>5</th>\n",
       "      <td>3.701164</td>\n",
       "      <td>a</td>\n",
       "    </tr>\n",
       "    <tr>\n",
       "      <th>6</th>\n",
       "      <td>3.998342</td>\n",
       "      <td>b</td>\n",
       "    </tr>\n",
       "    <tr>\n",
       "      <th>7</th>\n",
       "      <td>8.757472</td>\n",
       "      <td>c</td>\n",
       "    </tr>\n",
       "    <tr>\n",
       "      <th>8</th>\n",
       "      <td>9.122731</td>\n",
       "      <td>c</td>\n",
       "    </tr>\n",
       "    <tr>\n",
       "      <th>9</th>\n",
       "      <td>9.956196</td>\n",
       "      <td>c</td>\n",
       "    </tr>\n",
       "    <tr>\n",
       "      <th>10</th>\n",
       "      <td>10.163898</td>\n",
       "      <td>b</td>\n",
       "    </tr>\n",
       "    <tr>\n",
       "      <th>11</th>\n",
       "      <td>10.755053</td>\n",
       "      <td>c</td>\n",
       "    </tr>\n",
       "    <tr>\n",
       "      <th>12</th>\n",
       "      <td>12.254063</td>\n",
       "      <td>a</td>\n",
       "    </tr>\n",
       "    <tr>\n",
       "      <th>13</th>\n",
       "      <td>14.469992</td>\n",
       "      <td>a</td>\n",
       "    </tr>\n",
       "    <tr>\n",
       "      <th>14</th>\n",
       "      <td>16.082989</td>\n",
       "      <td>c</td>\n",
       "    </tr>\n",
       "    <tr>\n",
       "      <th>15</th>\n",
       "      <td>16.759229</td>\n",
       "      <td>a</td>\n",
       "    </tr>\n",
       "  </tbody>\n",
       "</table>\n",
       "</div>"
      ],
      "text/plain": [
       "            x class\n",
       "0    0.700561     a\n",
       "1    0.848185     a\n",
       "2    1.769825     a\n",
       "3    2.207230     b\n",
       "4    2.313038     a\n",
       "5    3.701164     a\n",
       "6    3.998342     b\n",
       "7    8.757472     c\n",
       "8    9.122731     c\n",
       "9    9.956196     c\n",
       "10  10.163898     b\n",
       "11  10.755053     c\n",
       "12  12.254063     a\n",
       "13  14.469992     a\n",
       "14  16.082989     c\n",
       "15  16.759229     a"
      ]
     },
     "execution_count": 1190,
     "metadata": {},
     "output_type": "execute_result"
    }
   ],
   "source": [
    "defect= pd.read_csv(\"defects.csv\")\n",
    "\n",
    "defect=defect.sort_values(by='x').reset_index(drop=True)\n",
    "\n",
    "result_dict = dict(zip(defect['x'], defect['class']))\n",
    "\n",
    "defect.head(16)"
   ]
  },
  {
   "cell_type": "code",
   "execution_count": 1191,
   "metadata": {},
   "outputs": [],
   "source": [
    "def get_keys_less_than_value(input_dict, value, value2):\n",
    "    return [input_dict[key] for key in input_dict.keys() if key > value and key < value2]\n",
    "\n",
    "\n",
    "def get_classes_below_threshold(df, threshold):\n",
    "    return df.loc[df['x'] < threshold, 'class'].tolist()\n",
    "\n",
    "\n",
    "def get_values_defect(input_dict, value1, value2):\n",
    "    accumulated_values = ''\n",
    "    for key in input_dict.keys():\n",
    "        if key > value1 and key <= value2:\n",
    "            accumulated_values += input_dict[key]  # Concatenate the values meeting the condition\n",
    "    \n",
    "    return accumulated_values.strip()  # Remove trailing space, if any\n",
    "\n",
    "\n"
   ]
  },
  {
   "cell_type": "code",
   "execution_count": 1192,
   "metadata": {},
   "outputs": [
    {
     "name": "stdout",
     "output_type": "stream",
     "text": [
      "Execution time: 0.00010309999925084412 seconds cabaca\n"
     ]
    }
   ],
   "source": [
    "\n",
    "start_time = time.perf_counter()\n",
    "\n",
    "a = get_values_defect(result_dict, 100,110)\n",
    "\n",
    "\n",
    "\n",
    "end_time = time.perf_counter()\n",
    "execution_time1 = end_time - start_time\n",
    "print(f\"Execution time: {execution_time1} seconds\",a)\n"
   ]
  },
  {
   "cell_type": "code",
   "execution_count": 1193,
   "metadata": {},
   "outputs": [
    {
     "name": "stdout",
     "output_type": "stream",
     "text": [
      "Execution time: 0.0001519999987067422 seconds ['c', 'a', 'b', 'a', 'c', 'a']\n"
     ]
    }
   ],
   "source": [
    "\n",
    "\n",
    "start_time = time.perf_counter()\n",
    "\n",
    "# Your code\n",
    "a = get_keys_less_than_value(result_dict, 100,110)\n",
    "\n",
    "end_time = time.perf_counter()\n",
    "execution_time2 = end_time - start_time\n",
    "print(f\"Execution time: {execution_time2} seconds\",a)"
   ]
  },
  {
   "cell_type": "code",
   "execution_count": null,
   "metadata": {},
   "outputs": [],
   "source": [
    "\n"
   ]
  },
  {
   "cell_type": "code",
   "execution_count": 1194,
   "metadata": {},
   "outputs": [
    {
     "name": "stdout",
     "output_type": "stream",
     "text": [
      "Execution time 1 minus 2: 0.6782894745266268 seconds\n"
     ]
    }
   ],
   "source": [
    "print(f\"Execution time 1 minus 2: {execution_time1/execution_time2} seconds\")"
   ]
  },
  {
   "cell_type": "code",
   "execution_count": 1195,
   "metadata": {},
   "outputs": [
    {
     "name": "stdout",
     "output_type": "stream",
     "text": [
      "Type of a: <class 'int'>\n",
      "Type of b: <class 'int'>\n",
      "Type of c: <class 'int'>\n",
      "a 1\n",
      "b 2\n",
      "c 1\n"
     ]
    }
   ],
   "source": [
    "class Biscuit:\n",
    "    def __init__(self, length, value, max_a, max_b, max_c):\n",
    "        self.length = length\n",
    "        self.value = value\n",
    "        self.max_defects = {'a': max_a, 'b': max_b, 'c': max_c}\n",
    "\n",
    "# Creating instances of the Biscuit class for each type of biscuit\n",
    "biscuit_0 = Biscuit(length=4, value=6, max_a=4, max_b=2, max_c=3)\n",
    "biscuit_1 = Biscuit(length=8, value=12, max_a=5, max_b=4, max_c=4)\n",
    "biscuit_2 = Biscuit(length=2, value=1, max_a=1, max_b=2, max_c=1)\n",
    "biscuit_3 = Biscuit(length=5, value=8, max_a=2, max_b=3, max_c=2)\n",
    "biscuit_4 = Biscuit(length=1, value=0, max_a=float('inf'), max_b=float('inf'), max_c=float('inf'))\n",
    "biscuit_5 = Biscuit(length=100, value=8, max_a=0, max_b=0, max_c=0)\n",
    "\n",
    "# Store all biscuits in a list\n",
    "biscuits = [biscuit_0, biscuit_1, biscuit_2, biscuit_3, biscuit_4,biscuit_5]\n",
    "\n",
    "# Accessing details of a specific biscuit\n",
    "\n",
    "for key, value in biscuits[2].max_defects.items():\n",
    "    print(f'Type of {key}: {type(value)}')\n",
    "\n",
    "for key, value in biscuits[2].max_defects.items():\n",
    "    print(key,value)\n",
    "\n",
    "    \n"
   ]
  },
  {
   "cell_type": "code",
   "execution_count": 1196,
   "metadata": {},
   "outputs": [],
   "source": [
    "class Dough_Roll:\n",
    "    def __init__(self, max_length,defect, biscuit_order=None,filled_length=0):\n",
    "        if biscuit_order is None:\n",
    "            biscuit_order = []\n",
    "        self.defect = defect\n",
    "        self.max_length = max_length\n",
    "        self.biscuit_order = biscuit_order\n",
    "        self.filled_length = filled_length\n",
    "\n",
    "\n",
    "    def can_i_add(self, biscuit,On_current_self=True, filled_length=0):\n",
    "        output = True\n",
    "        if On_current_self==True:\n",
    "            #check if length of biscuit is consistent with max_length of the dough roll\n",
    "            if biscuit.length+self.filled_length>self.max_length:\n",
    "                output = False\n",
    "            #check if the number of defect is acceptable for each defect\n",
    "            for key, defect_acceptable in biscuit.max_defects.items():\n",
    "                if defect_acceptable-get_values_defect(self.defect,self.filled_length,biscuit.length+self.filled_length).count(key)<0:\n",
    "                    output = False\n",
    "        else:\n",
    "            if biscuit.length+filled_length>self.max_length:\n",
    "                output = False\n",
    "            #check if the number of defect is acceptable for each defect\n",
    "            for key, defect_acceptable in biscuit.max_defects.items():\n",
    "                if defect_acceptable-get_values_defect(self.defect,filled_length,biscuit.length+filled_length).count(key)<0:\n",
    "                    output = False\n",
    "        return output\n",
    "    \n",
    "\n",
    "    def fitness_evaluator(self,biscuit_list,ref_biscuit_order_index=0, filled_length=0):\n",
    "        #check if the index is within bounds \n",
    "        if len(self.biscuit_order)>ref_biscuit_order_index:\n",
    "            current_biscuit=biscuit_list[self.biscuit_order[ref_biscuit_order_index]]\n",
    "            #check if the next biscuit is acceptable\n",
    "            if self.can_i_add(current_biscuit, False, filled_length):\n",
    "\n",
    "                return (current_biscuit.value \n",
    "                        + self.fitness_evaluator(biscuit_list,ref_biscuit_order_index+1, filled_length+current_biscuit.length))\n",
    "        return 0\n",
    "    \n",
    "    def greedy_add(self,biscuit_list):\n",
    "        output = False\n",
    "        for biscuit in biscuit_list:\n",
    "            if self.can_i_add(biscuit)==True:\n",
    "                output = True\n",
    "        if output == True:\n",
    "            max_input = biscuit_list.index(max(biscuit_list,key=lambda i: (i.value / i.length)*self.can_i_add(i)+self.can_i_add(i)))\n",
    "            self.biscuit_order.append(max_input)\n",
    "            self.filled_length+=biscuit_list[max_input].length\n",
    "        return output\n",
    "    \n",
    "    def stop_time(self,biscuit_list):\n",
    "        output = False\n",
    "        for biscuit in biscuit_list:\n",
    "            if self.can_i_add(biscuit)==True:\n",
    "                output = True\n",
    "        return output\n",
    "    \n",
    "    def random_add(self,biscuit_list):\n",
    "        output = False\n",
    "        index=random.randint(0, len(biscuit_list)-1)\n",
    "        found_value = False\n",
    "        for biscuit in biscuit_list:\n",
    "            if self.can_i_add(biscuit)==True:\n",
    "                output = True\n",
    "        if output == True:\n",
    "            while found_value == False:\n",
    "                if self.can_i_add(biscuit_list[index]):\n",
    "                    self.biscuit_order.append(index)\n",
    "                    self.filled_length+=biscuit_list[index].length\n",
    "                    found_value=True\n",
    "                else:\n",
    "                    index=random.randint(0, len(biscuit_list)-1)\n",
    "               \n",
    "        return output\n",
    "            \n",
    "           \n",
    "    \n",
    "    def look_ahead(self, biscuit_list,wisdom, On_current_self=True, filled_length=0):\n",
    "        if On_current_self==True:\n",
    "            filled_length=self.filled_length\n",
    "        if wisdom == 0 or filled_length>=self.max_length:\n",
    "            #structure length, value, path\n",
    "            return [[0,0,-1]]\n",
    "        output = []\n",
    "        for index, biscuit in enumerate(biscuit_list):\n",
    "            if self.can_i_add( biscuit,False, filled_length):\n",
    "                list_set_of_values_length=self.look_ahead(biscuit_list,wisdom-1,False,filled_length+biscuit.length)\n",
    "\n",
    "                for element in list_set_of_values_length:\n",
    "                    output.append([element[0]+biscuit.length,element[1]+biscuit.value,index])\n",
    "        #print(output)\n",
    "        return output\n",
    "    \n",
    "    def add_one_using_look_ahead(self,biscuit_list,wisdom):\n",
    "        table=self.look_ahead(biscuit_list,wisdom,False,self.filled_length)\n",
    "        max_input=table.index(max(table,key=lambda i: (i[1] / i[0] if i[0] != 0 else float('-inf'))))\n",
    "        if table[:][max_input][2] ==-1:\n",
    "            return False\n",
    "\n",
    "\n",
    "        self.biscuit_order.append(table[:][max_input][2])\n",
    "        self.filled_length+=biscuit_list[table[:][max_input][2]].length\n",
    "        return True\n",
    "\n",
    "        \n",
    "                \n",
    "\n",
    "\n",
    "\n",
    "\n"
   ]
  },
  {
   "cell_type": "markdown",
   "metadata": {},
   "source": [
    "if no biscuit can be added because of length or wisdom remaining\n",
    "    return nothing\n",
    "create a list to be sent as output\n",
    "iterate in the biscuit list to find all possibilities\n",
    "    if the biscuit can be added\n",
    "    add to the list by apending value and length\n",
    "send list"
   ]
  },
  {
   "cell_type": "code",
   "execution_count": 1200,
   "metadata": {},
   "outputs": [],
   "source": [
    "start_time = time.perf_counter()\n",
    "\n",
    "greedy_dough = Dough_Roll(500,result_dict)\n",
    "\n",
    "while greedy_dough.add_one_using_look_ahead(biscuits,1):\n",
    "    greedy_dough.add_one_using_look_ahead(biscuits,10)\n",
    "print(greedy_dough.fitness_evaluator(biscuits),greedy_dough.biscuit_order)\n",
    "\n",
    "end_time = time.perf_counter()\n",
    "execution_time = end_time - start_time\n",
    "print(f\"Execution time: {execution_time} seconds\",a)\n"
   ]
  },
  {
   "cell_type": "code",
   "execution_count": 1198,
   "metadata": {},
   "outputs": [
    {
     "name": "stdout",
     "output_type": "stream",
     "text": [
      "735 [1, 1, 3, 0, 0, 3, 2, 0, 0, 0, 2, 0, 3, 3, 0, 3, 0, 3, 1, 0, 4, 2, 4, 0, 3, 0, 0, 4, 4, 4, 0, 0, 3, 3, 0, 0, 3, 3, 2, 4, 4, 3, 4, 2, 4, 3, 3, 0, 2, 4, 4, 2, 1, 3, 3, 3, 3, 3, 3, 3, 3, 3, 4, 4, 0, 0, 3, 3, 3, 3, 3, 0, 0, 3, 3, 1, 1, 3, 0, 3, 3, 0, 2, 3, 3, 3, 3, 1, 0, 0, 0, 0, 3, 3, 3, 3, 0, 3, 3, 3, 3, 3, 0, 0, 0, 3, 0, 3, 0, 3, 3, 3, 3, 0, 4, 4, 0, 3, 3, 2, 4]\n",
      "Execution time: 0.20704719999957888 seconds ['c', 'a', 'b', 'a', 'c', 'a']\n"
     ]
    }
   ],
   "source": [
    "start_time = time.perf_counter()\n",
    "\n",
    "greedy_dough = Dough_Roll(500,result_dict)\n",
    "\n",
    "while greedy_dough.greedy_add(biscuits):\n",
    "    greedy_dough.greedy_add(biscuits)\n",
    "print(greedy_dough.fitness_evaluator(biscuits),greedy_dough.biscuit_order)\n",
    "\n",
    "end_time = time.perf_counter()\n",
    "execution_time = end_time - start_time\n",
    "print(f\"Execution time: {execution_time} seconds\",a)"
   ]
  },
  {
   "cell_type": "code",
   "execution_count": 1199,
   "metadata": {},
   "outputs": [
    {
     "name": "stdout",
     "output_type": "stream",
     "text": [
      "677 [1, 4, 0, 4, 3, 1, 3, 2, 2, 4, 2, 4, 0, 2, 0, 0, 3, 3, 0, 2, 0, 0, 3, 1, 0, 2, 4, 0, 3, 0, 0, 4, 4, 4, 0, 1, 3, 2, 0, 4, 0, 2, 3, 4, 2, 4, 4, 4, 0, 4, 2, 4, 3, 3, 0, 4, 2, 4, 2, 4, 1, 4, 3, 4, 0, 0, 3, 4, 3, 3, 3, 1, 4, 4, 0, 4, 3, 2, 3, 4, 3, 0, 3, 4, 0, 1, 3, 4, 1, 4, 3, 4, 0, 4, 0, 0, 3, 2, 0, 4, 3, 3, 3, 0, 2, 1, 0, 4, 0, 0, 3, 2, 0, 2, 3, 4, 3, 1, 3, 0, 3, 2, 0, 4, 0, 1, 3, 1, 0, 3, 3, 1, 0, 1, 3, 3, 2, 4]\n",
      "Execution time: 0.17247689999931026 seconds ['c', 'a', 'b', 'a', 'c', 'a']\n"
     ]
    }
   ],
   "source": [
    "start_time = time.perf_counter()\n",
    "\n",
    "greedy_dough = Dough_Roll(500,result_dict)\n",
    "\n",
    "while greedy_dough.greedy_add(biscuits):\n",
    "#for i in range(6):\n",
    "    greedy_dough.random_add(biscuits)\n",
    "print(greedy_dough.fitness_evaluator(biscuits),greedy_dough.biscuit_order)\n",
    "\n",
    "end_time = time.perf_counter()\n",
    "execution_time = end_time - start_time\n",
    "print(f\"Execution time: {execution_time} seconds\",a)"
   ]
  },
  {
   "cell_type": "code",
   "execution_count": null,
   "metadata": {},
   "outputs": [],
   "source": [
    "\n",
    "\n"
   ]
  },
  {
   "cell_type": "code",
   "execution_count": null,
   "metadata": {},
   "outputs": [],
   "source": []
  },
  {
   "cell_type": "code",
   "execution_count": null,
   "metadata": {},
   "outputs": [],
   "source": []
  }
 ],
 "metadata": {
  "kernelspec": {
   "display_name": "base",
   "language": "python",
   "name": "python3"
  },
  "language_info": {
   "codemirror_mode": {
    "name": "ipython",
    "version": 3
   },
   "file_extension": ".py",
   "mimetype": "text/x-python",
   "name": "python",
   "nbconvert_exporter": "python",
   "pygments_lexer": "ipython3",
   "version": "3.9.7"
  }
 },
 "nbformat": 4,
 "nbformat_minor": 2
}
