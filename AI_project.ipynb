{
 "cells": [
  {
   "cell_type": "code",
   "execution_count": 70,
   "metadata": {},
   "outputs": [],
   "source": [
    "import pandas as pd\n",
    "import numpy as np\n",
    "import matplotlib as plt\n",
    "import time\n",
    "import random\n",
    "\n"
   ]
  },
  {
   "cell_type": "markdown",
   "metadata": {},
   "source": [
    "# Reading my defect csv and mapping it to a dictionary"
   ]
  },
  {
   "cell_type": "code",
   "execution_count": 71,
   "metadata": {},
   "outputs": [
    {
     "data": {
      "text/html": [
       "<div>\n",
       "<style scoped>\n",
       "    .dataframe tbody tr th:only-of-type {\n",
       "        vertical-align: middle;\n",
       "    }\n",
       "\n",
       "    .dataframe tbody tr th {\n",
       "        vertical-align: top;\n",
       "    }\n",
       "\n",
       "    .dataframe thead th {\n",
       "        text-align: right;\n",
       "    }\n",
       "</style>\n",
       "<table border=\"1\" class=\"dataframe\">\n",
       "  <thead>\n",
       "    <tr style=\"text-align: right;\">\n",
       "      <th></th>\n",
       "      <th>x</th>\n",
       "      <th>class</th>\n",
       "    </tr>\n",
       "  </thead>\n",
       "  <tbody>\n",
       "    <tr>\n",
       "      <th>0</th>\n",
       "      <td>0.700561</td>\n",
       "      <td>a</td>\n",
       "    </tr>\n",
       "    <tr>\n",
       "      <th>1</th>\n",
       "      <td>0.848185</td>\n",
       "      <td>a</td>\n",
       "    </tr>\n",
       "    <tr>\n",
       "      <th>2</th>\n",
       "      <td>1.769825</td>\n",
       "      <td>a</td>\n",
       "    </tr>\n",
       "    <tr>\n",
       "      <th>3</th>\n",
       "      <td>2.207230</td>\n",
       "      <td>b</td>\n",
       "    </tr>\n",
       "    <tr>\n",
       "      <th>4</th>\n",
       "      <td>2.313038</td>\n",
       "      <td>a</td>\n",
       "    </tr>\n",
       "  </tbody>\n",
       "</table>\n",
       "</div>"
      ],
      "text/plain": [
       "          x class\n",
       "0  0.700561     a\n",
       "1  0.848185     a\n",
       "2  1.769825     a\n",
       "3  2.207230     b\n",
       "4  2.313038     a"
      ]
     },
     "execution_count": 71,
     "metadata": {},
     "output_type": "execute_result"
    }
   ],
   "source": [
    "defect= pd.read_csv(\"defects.csv\")\n",
    "\n",
    "defect=defect.sort_values(by='x').reset_index(drop=True)\n",
    "\n",
    "result_dict = dict(zip(defect['x'], defect['class']))\n",
    "\n",
    "defect.head()"
   ]
  },
  {
   "cell_type": "markdown",
   "metadata": {},
   "source": [
    "# Tried a few different methods to obtain the defects between 2 values"
   ]
  },
  {
   "cell_type": "code",
   "execution_count": 72,
   "metadata": {},
   "outputs": [],
   "source": [
    "def get_keys_between_values(input_dict, value, value2):\n",
    "    return [input_dict[key] for key in input_dict.keys() if key > value and key <= value2]\n",
    "\n",
    "\n",
    "\n",
    "\n",
    "\n",
    "def get_values_defect(input_dict, value1, value2):\n",
    "    accumulated_values = ''\n",
    "    for key in input_dict.keys():\n",
    "        if key > value1 and key <= value2:\n",
    "            accumulated_values += input_dict[key]  # Concatenate the values meeting the condition\n",
    "    \n",
    "    return accumulated_values.strip()  # Remove trailing space, if any\n",
    "\n",
    "\n"
   ]
  },
  {
   "cell_type": "markdown",
   "metadata": {},
   "source": [
    "# Compared the 2 methods, there was no significant difference between the 2"
   ]
  },
  {
   "cell_type": "code",
   "execution_count": 73,
   "metadata": {},
   "outputs": [
    {
     "name": "stdout",
     "output_type": "stream",
     "text": [
      "Execution time: 0.0002848000001449691 seconds ccbcbbacacaa\n"
     ]
    }
   ],
   "source": [
    "\n",
    "start_time = time.perf_counter()\n",
    "for i in (0,100,200,250,300,400):\n",
    "    a = get_values_defect(result_dict, i,i+10)\n",
    "end_time = time.perf_counter()\n",
    "execution_time1 = end_time - start_time\n",
    "print(f\"Execution time: {execution_time1} seconds\",a)\n"
   ]
  },
  {
   "cell_type": "code",
   "execution_count": 74,
   "metadata": {},
   "outputs": [
    {
     "name": "stdout",
     "output_type": "stream",
     "text": [
      "Execution time: 0.0004063999999743828 seconds ['c', 'c', 'b', 'c', 'b', 'b', 'a', 'c', 'a', 'c', 'a', 'a']\n"
     ]
    }
   ],
   "source": [
    "\n",
    "\n",
    "start_time = time.perf_counter()\n",
    "for i in (0,100,200,250,300,400):\n",
    "    a = get_keys_between_values(result_dict, i,i+10)\n",
    "\n",
    "end_time = time.perf_counter()\n",
    "execution_time2 = end_time - start_time\n",
    "print(f\"Execution time: {execution_time2} seconds\",a)"
   ]
  },
  {
   "cell_type": "markdown",
   "metadata": {},
   "source": [
    "# Biscuit class that stores the different biscuits"
   ]
  },
  {
   "cell_type": "code",
   "execution_count": 75,
   "metadata": {},
   "outputs": [],
   "source": [
    "class Biscuit:\n",
    "    def __init__(self, length, value, max_a, max_b, max_c):\n",
    "        self.length = length\n",
    "        self.value = value\n",
    "        self.max_defects = {'a': max_a, 'b': max_b, 'c': max_c}\n",
    "\n",
    "# Creating instances of the Biscuit class for each type of biscuit\n",
    "biscuit_0 = Biscuit(length=4, value=6, max_a=4, max_b=2, max_c=3)\n",
    "biscuit_1 = Biscuit(length=8, value=12, max_a=5, max_b=4, max_c=4)\n",
    "biscuit_2 = Biscuit(length=2, value=1, max_a=1, max_b=2, max_c=1)\n",
    "biscuit_3 = Biscuit(length=5, value=8, max_a=2, max_b=3, max_c=2)\n",
    "biscuit_4 = Biscuit(length=1, value=0, max_a=float('inf'), max_b=float('inf'), max_c=float('inf'))\n",
    "\n",
    "\n",
    "\n",
    "    \n"
   ]
  },
  {
   "cell_type": "markdown",
   "metadata": {},
   "source": [
    "# Here i create the object named 'biscuits' that stores the biscuits"
   ]
  },
  {
   "cell_type": "code",
   "execution_count": 76,
   "metadata": {},
   "outputs": [],
   "source": [
    "# Store all biscuits in a list\n",
    "biscuits = [biscuit_0, biscuit_1, biscuit_2, biscuit_3, biscuit_4]"
   ]
  },
  {
   "cell_type": "code",
   "execution_count": 77,
   "metadata": {},
   "outputs": [
    {
     "name": "stdout",
     "output_type": "stream",
     "text": [
      "Type of a: <class 'int'>\n",
      "Type of b: <class 'int'>\n",
      "Type of c: <class 'int'>\n",
      "a 1\n",
      "b 2\n",
      "c 1\n"
     ]
    }
   ],
   "source": [
    "# Accessing details of a specific biscuit\n",
    "\n",
    "for key, value in biscuits[2].max_defects.items():\n",
    "    print(f'Type of {key}: {type(value)}')\n",
    "\n",
    "for key, value in biscuits[2].max_defects.items():\n",
    "    print(key,value)"
   ]
  },
  {
   "cell_type": "markdown",
   "metadata": {},
   "source": [
    "# Dough Roll Class that contains the dough informations and various functions"
   ]
  },
  {
   "cell_type": "code",
   "execution_count": 78,
   "metadata": {},
   "outputs": [],
   "source": [
    "# class Dough_Roll:\n",
    "#     def __init__(self, max_length,defect, biscuit_order=None,filled_length=0):\n",
    "#         if biscuit_order is None:\n",
    "#             biscuit_order = []\n",
    "#         self.defect = defect\n",
    "#         self.max_length = max_length\n",
    "#         self.biscuit_order = biscuit_order\n",
    "#         self.filled_length = filled_length\n",
    "\n",
    "\n",
    "\n",
    "#     def can_i_add(self, biscuit,On_current_self=True, filled_length=0):\n",
    "#         output = True\n",
    "#         if On_current_self==True:\n",
    "#             #check if length of biscuit is consistent with max_length of the dough roll\n",
    "#             if biscuit.length+self.filled_length>self.max_length:\n",
    "#                 output = False\n",
    "#             #check if the number of defect is acceptable for each defect\n",
    "#             for key, defect_acceptable in biscuit.max_defects.items():\n",
    "#                 if defect_acceptable-get_values_defect(self.defect,self.filled_length,biscuit.length+self.filled_length).count(key)<0:\n",
    "#                     output = False\n",
    "#         else:\n",
    "#             if biscuit.length+filled_length>self.max_length:\n",
    "#                 output = False\n",
    "#             #check if the number of defect is acceptable for each defect\n",
    "#             for key, defect_acceptable in biscuit.max_defects.items():\n",
    "#                 if defect_acceptable-get_values_defect(self.defect,filled_length,biscuit.length+filled_length).count(key)<0:\n",
    "#                     output = False\n",
    "#         return output\n",
    "    \n",
    "\n",
    "#     def fitness_evaluator(self,biscuit_list,ref_biscuit_order_index=0, filled_length=0):\n",
    "#         #check if the index is within bounds \n",
    "#         if len(self.biscuit_order)>ref_biscuit_order_index:\n",
    "#             current_biscuit=biscuit_list[self.biscuit_order[ref_biscuit_order_index]]\n",
    "#             #check if the next biscuit is acceptable\n",
    "#             if self.can_i_add(current_biscuit, False, filled_length):\n",
    "\n",
    "#                 return (current_biscuit.value \n",
    "#                         + self.fitness_evaluator(biscuit_list,ref_biscuit_order_index+1, filled_length+current_biscuit.length))\n",
    "#         return 0\n",
    "    \n",
    "#     def greedy_add(self,biscuit_list):\n",
    "#         output = False\n",
    "#         for biscuit in biscuit_list:\n",
    "#             if self.can_i_add(biscuit)==True:\n",
    "#                 output = True\n",
    "#         if output == True:\n",
    "#             max_input = biscuit_list.index(max(biscuit_list,key=lambda i: (i.value / i.length)*self.can_i_add(i)+self.can_i_add(i)))\n",
    "#             self.biscuit_order.append(max_input)\n",
    "#             self.filled_length+=biscuit_list[max_input].length\n",
    "#         return output\n",
    "    \n",
    "#     # def stop_time(self,biscuit_list):\n",
    "#     #     output = False\n",
    "#     #     for biscuit in biscuit_list:\n",
    "#     #         if self.can_i_add(biscuit)==True:\n",
    "#     #             output = True\n",
    "#     #     return output\n",
    "    \n",
    "#     def random_add(self,biscuit_list):\n",
    "#         output = False\n",
    "#         index=random.randint(0, len(biscuit_list)-1)\n",
    "#         found_value = False\n",
    "#         for biscuit in biscuit_list:\n",
    "#             if self.can_i_add(biscuit)==True:\n",
    "#                 output = True\n",
    "#         if output == True:\n",
    "#             while found_value == False:\n",
    "#                 if self.can_i_add(biscuit_list[index]):\n",
    "#                     self.biscuit_order.append(index)\n",
    "#                     self.filled_length+=biscuit_list[index].length\n",
    "#                     found_value=True\n",
    "#                 else:\n",
    "#                     index=random.randint(0, len(biscuit_list)-1)\n",
    "               \n",
    "#         return output\n",
    "            \n",
    "           \n",
    "    \n",
    "#     def look_ahead(self, biscuit_list,wisdom, On_current_self=True, filled_length=0):\n",
    "#         if On_current_self==True:\n",
    "#             filled_length=self.filled_length\n",
    "#         if wisdom == 0 or filled_length>=self.max_length:\n",
    "#             #structure length, value, path\n",
    "#             return [[0,0,-1]]\n",
    "#         output = []\n",
    "#         for index, biscuit in enumerate(biscuit_list):\n",
    "#             if self.can_i_add( biscuit,False, filled_length):\n",
    "#                 list_set_of_values_length=self.look_ahead(biscuit_list,wisdom-1,False,filled_length+biscuit.length)\n",
    "\n",
    "#                 for element in list_set_of_values_length:\n",
    "#                     output.append([element[0]+biscuit.length,element[1]+biscuit.value,index])\n",
    "#         #print(output)\n",
    "#         return output\n",
    "    \n",
    "#     def add_one_using_look_ahead(self,biscuit_list,wisdom):\n",
    "#         table=self.look_ahead(biscuit_list,wisdom,False,self.filled_length)\n",
    "#         max_input=table.index(max(table,key=lambda i: (i[1] / i[0] if i[0] != 0 else float('-inf'))))\n",
    "#         if table[:][max_input][2] ==-1:\n",
    "#             return False\n",
    "\n",
    "\n",
    "#         self.biscuit_order.append(table[:][max_input][2])\n",
    "#         self.filled_length+=biscuit_list[table[:][max_input][2]].length\n",
    "#         return True\n",
    "\n",
    "        \n",
    "                \n",
    "\n",
    "\n",
    "\n",
    "\n"
   ]
  },
  {
   "cell_type": "code",
   "execution_count": 79,
   "metadata": {},
   "outputs": [],
   "source": [
    "class Dough_Roll:\n",
    "    def __init__(self, max_length, defect, biscuit_order=None, filled_length=0):\n",
    "        \"\"\"\n",
    "        Initializes a Dough_Roll object representing the roll of dough for biscuit placement.\n",
    "\n",
    "        Args:\n",
    "        - max_length: Maximum length of the dough roll.\n",
    "        - defect: Dictionary containing defect positions and classes.\n",
    "        - biscuit_order: Order of biscuits placed on the dough roll. Defaults to an empty list.\n",
    "        - filled_length: Length of dough already filled with biscuits. Defaults to 0.\n",
    "        \"\"\"\n",
    "        # Initialize properties\n",
    "        if biscuit_order is None:\n",
    "            biscuit_order = []  # If no order is provided, initialize as an empty list\n",
    "        self.defect = defect  # Store defect information\n",
    "        self.max_length = max_length  # Store maximum length of the dough roll\n",
    "        self.biscuit_order = biscuit_order  # Store the order of biscuits placed on the dough\n",
    "        self.filled_length = filled_length  # Store the length of dough already filled\n",
    "    \n",
    "\n",
    "    def can_i_add(self, biscuit, On_current_self=True, filled_length=0):\n",
    "        \"\"\"\n",
    "        Checks if adding a biscuit to the dough roll is feasible based on length and defect constraints.\n",
    "\n",
    "        Args:\n",
    "        - biscuit: Biscuit object to be added to the dough roll.\n",
    "        - On_current_self: Boolean indicating whether to consider the current filled length of self. Defaults to True.\n",
    "        - filled_length: Length of dough already filled. Used if On_current_self is False. Defaults to 0.\n",
    "\n",
    "        Returns:\n",
    "        - output: Boolean indicating if adding the biscuit is feasible (True) or not (False).\n",
    "        \"\"\"\n",
    "        output = True  # Assume the biscuit addition is feasible initially\n",
    "\n",
    "        if On_current_self == True:\n",
    "            # Check if adding the biscuit exceeds the maximum length of the dough roll\n",
    "            if biscuit.length + self.filled_length > self.max_length:\n",
    "                output = False  # Set output to False if the length constraint is violated\n",
    "\n",
    "            # Check if the number of defects in the proposed placement exceeds acceptable limits for each defect type\n",
    "            for key, defect_acceptable in biscuit.max_defects.items():\n",
    "                # Subtract the number of defects within the proposed placement from the acceptable limit\n",
    "                if defect_acceptable - get_values_defect(self.defect, self.filled_length, biscuit.length + self.filled_length).count(key) < 0:\n",
    "                    output = False  # Set output to False if the defect constraint is violated\n",
    "\n",
    "        else:\n",
    "            # Check if adding the biscuit exceeds the maximum length of the dough roll\n",
    "            if biscuit.length + filled_length > self.max_length:\n",
    "                output = False  # Set output to False if the length constraint is violated\n",
    "\n",
    "            # Check if the number of defects in the proposed placement exceeds acceptable limits for each defect type\n",
    "            for key, defect_acceptable in biscuit.max_defects.items():\n",
    "                # Subtract the number of defects within the proposed placement from the acceptable limit\n",
    "                if defect_acceptable - get_values_defect(self.defect, filled_length, biscuit.length + filled_length).count(key) < 0:\n",
    "                    output = False  # Set output to False if the defect constraint is violated\n",
    "\n",
    "        return output\n",
    "    \n",
    "    def fitness_evaluator(self, biscuit_list, ref_biscuit_order_index=0, filled_length=0):\n",
    "        \"\"\"\n",
    "        Evaluates the fitness (total value) of a sequence of biscuits placed on the dough roll.\n",
    "\n",
    "        Args:\n",
    "        - biscuit_list: List containing Biscuit objects to be evaluated.\n",
    "        - ref_biscuit_order_index: Reference index of biscuit placement order within the dough roll. Defaults to 0.\n",
    "        - filled_length: Length of dough already filled. Used for checking biscuit placement feasibility. Defaults to 0.\n",
    "\n",
    "        Returns:\n",
    "        - Total value (fitness) obtained from the sequence of biscuits placed on the dough roll.\n",
    "        \"\"\"\n",
    "        # Check if the reference biscuit_order_index is within the bounds of the dough roll\n",
    "        if len(self.biscuit_order) > ref_biscuit_order_index:\n",
    "            current_biscuit = biscuit_list[self.biscuit_order[ref_biscuit_order_index]]\n",
    "\n",
    "            # Check if adding the next biscuit to the current sequence is feasible\n",
    "            if self.can_i_add(current_biscuit, False, filled_length):\n",
    "                # Calculate the total value by considering the current biscuit and recursively evaluating the remaining sequence\n",
    "                return (current_biscuit.value +\n",
    "                        self.fitness_evaluator(biscuit_list, ref_biscuit_order_index + 1, filled_length + current_biscuit.length))\n",
    "\n",
    "        return 0  # Return 0 if the end of the biscuit sequence or placement feasibility is not met\n",
    "    \n",
    "\n",
    "    def greedy_add(self, biscuit_list):\n",
    "        \"\"\"\n",
    "        Implements the greedy algorithm to add biscuits to the dough roll based on maximizing value/length ratio.\n",
    "\n",
    "        Args:\n",
    "        - biscuit_list: List containing Biscuit objects to be considered for addition.\n",
    "\n",
    "        Returns:\n",
    "        - Boolean value indicating if any biscuit was successfully added to the dough roll.\n",
    "        \"\"\"\n",
    "        output = False  # Initialize output as False\n",
    "\n",
    "        # Iterate through each biscuit in the biscuit_list\n",
    "        for biscuit in biscuit_list:\n",
    "            # Check if adding the current biscuit to the dough roll is feasible\n",
    "            if self.can_i_add(biscuit) == True:\n",
    "                output = True  # Set output as True if adding the biscuit is feasible\n",
    "\n",
    "        # If at least one biscuit can be added\n",
    "        if output == True:\n",
    "            # Find the index of the biscuit in biscuit_list that maximizes the value/length ratio\n",
    "            max_input = biscuit_list.index(max(biscuit_list, key=lambda i: (i.value / i.length) * self.can_i_add(i) + self.can_i_add(i)))\n",
    "\n",
    "            # Add the biscuit with the highest value/length ratio to the biscuit_order list\n",
    "            self.biscuit_order.append(max_input)\n",
    "            \n",
    "            # Update the filled_length of the dough roll by adding the length of the selected biscuit\n",
    "            self.filled_length += biscuit_list[max_input].length\n",
    "\n",
    "        return output  # Return True if any biscuit was successfully added, otherwise False\n",
    "\n",
    "\n",
    "\n",
    "\n",
    "    def look_ahead(self, biscuit_list, wisdom, On_current_self=True, filled_length=0):\n",
    "        \"\"\"\n",
    "        Implements a look-ahead algorithm to predict feasible biscuit placements based on future considerations.\n",
    "\n",
    "        Args:\n",
    "        - biscuit_list: List containing Biscuit objects to be considered for placement.\n",
    "        - wisdom: Depth of look-ahead to explore future placements.\n",
    "        - On_current_self: Boolean indicating whether to consider the current filled length of the dough roll. Defaults to True.\n",
    "        - filled_length: Length of dough already filled. Used if On_current_self is False. Defaults to 0.\n",
    "\n",
    "        Returns:\n",
    "        - List of lists representing possible structures of length, value, and path for future biscuit placements.\n",
    "        \"\"\"\n",
    "        if On_current_self == True:\n",
    "            filled_length = self.filled_length  # Update filled_length to the current state of the dough roll\n",
    "\n",
    "        if wisdom == 0 or filled_length >= self.max_length:\n",
    "            # If the look-ahead depth is exhausted or maximum length is reached, return a base structure\n",
    "            return [[0, 0, -1]]  # Structure: [length, value, path]\n",
    "\n",
    "        output = []  # Initialize an empty list to store potential future placements\n",
    "\n",
    "        # Iterate through each biscuit in biscuit_list and explore potential future placements\n",
    "        for index, biscuit in enumerate(biscuit_list):\n",
    "            if self.can_i_add(biscuit, False, filled_length):  # Check if adding the biscuit is feasible\n",
    "                # Recursively explore future placements and calculate possible structures\n",
    "                list_set_of_values_length = self.look_ahead(biscuit_list, wisdom - 1, False, filled_length + biscuit.length)\n",
    "\n",
    "                # Generate possible structures considering length, value, and index of the biscuit in biscuit_list\n",
    "                for element in list_set_of_values_length:\n",
    "                    output.append([element[0] + biscuit.length, element[1] + biscuit.value, index])\n",
    "\n",
    "        return output  # Return the list of possible structures for future placements\n",
    "\n",
    "\n",
    "    def add_one_using_look_ahead(self, biscuit_list, wisdom):\n",
    "        \"\"\"\n",
    "        Adds one biscuit to the dough roll using the look-ahead algorithm.\n",
    "\n",
    "        Args:\n",
    "        - biscuit_list: List containing Biscuit objects.\n",
    "        - wisdom: Depth of look-ahead to explore future placements.\n",
    "\n",
    "        Returns:\n",
    "        - Boolean indicating if a biscuit was successfully added using the look-ahead algorithm.\n",
    "        \"\"\"\n",
    "        # Perform a look-ahead to determine possible future biscuit placements\n",
    "        table = self.look_ahead(biscuit_list, wisdom, False, self.filled_length)\n",
    "\n",
    "        # Find the index of the maximum value/length ratio from the generated table\n",
    "        max_input = table.index(max(table, key=lambda i: (i[1] / i[0] if i[0] != 0 else float('-inf'))))\n",
    "\n",
    "        # Check if the chosen biscuit path exists, if not, return False indicating no valid biscuit to add\n",
    "        if table[:][max_input][2] == -1:\n",
    "            return False\n",
    "\n",
    "        # Add the selected biscuit to the biscuit_order list and update the filled_length of the dough roll\n",
    "        self.biscuit_order.append(table[:][max_input][2])\n",
    "        self.filled_length += biscuit_list[table[:][max_input][2]].length\n",
    "\n",
    "        return True  # Return True if a biscuit was successfully added using the look-ahead algorithm\n",
    "\n",
    "    def random_add(self, biscuit_list):\n",
    "        \"\"\"\n",
    "        Adds a random biscuit to the dough roll among available feasible options.\n",
    "\n",
    "        Args:\n",
    "        - biscuit_list: List containing Biscuit objects to choose from for addition.\n",
    "\n",
    "        Returns:\n",
    "        - Boolean indicating if any biscuit was successfully added to the dough roll.\n",
    "        \"\"\"\n",
    "        output = False  # Initialize output as False\n",
    "        index = random.randint(0, len(biscuit_list) - 1)  # Generate a random index within biscuit_list\n",
    "        found_value = False  # Initialize found_value as False\n",
    "\n",
    "        # Check if at least one biscuit can be added to the dough roll\n",
    "        for biscuit in biscuit_list:\n",
    "            if self.can_i_add(biscuit) == True:\n",
    "                output = True  # Set output as True if adding the biscuit is feasible\n",
    "\n",
    "        # If at least one biscuit can be added\n",
    "        if output == True:\n",
    "            # Loop until a feasible biscuit is found for addition\n",
    "            while found_value == False:\n",
    "                # Check if the randomly selected biscuit can be added\n",
    "                if self.can_i_add(biscuit_list[index]):\n",
    "                    # Add the selected biscuit to the biscuit_order list and update the filled_length of the dough roll\n",
    "                    self.biscuit_order.append(index)\n",
    "                    self.filled_length += biscuit_list[index].length\n",
    "                    found_value = True  # Set found_value as True indicating successful addition\n",
    "                else:\n",
    "                    # If the randomly selected biscuit cannot be added, generate a new random index\n",
    "                    index = random.randint(0, len(biscuit_list) - 1)\n",
    "\n",
    "        return output  # Return True if any biscuit was successfully added, otherwise False\n",
    "\n",
    "\n"
   ]
  },
  {
   "cell_type": "markdown",
   "metadata": {},
   "source": [
    "# Next i tested my different algorithms\n",
    "it follows the same simple process: a while loop that continuously adds biscuit as long as it is possible, only the method called when adding the biscuits changes between the different bits of code"
   ]
  },
  {
   "cell_type": "markdown",
   "metadata": {},
   "source": [
    "greedy:"
   ]
  },
  {
   "cell_type": "code",
   "execution_count": 80,
   "metadata": {},
   "outputs": [
    {
     "name": "stdout",
     "output_type": "stream",
     "text": [
      "735 [1, 1, 3, 0, 0, 3, 2, 0, 0, 0, 2, 0, 3, 3, 0, 3, 0, 3, 1, 0, 4, 2, 4, 0, 3, 0, 0, 4, 4, 4, 0, 0, 3, 3, 0, 0, 3, 3, 2, 4, 4, 3, 4, 2, 4, 3, 3, 0, 2, 4, 4, 2, 1, 3, 3, 3, 3, 3, 3, 3, 3, 3, 4, 4, 0, 0, 3, 3, 3, 3, 3, 0, 0, 3, 3, 1, 1, 3, 0, 3, 3, 0, 2, 3, 3, 3, 3, 1, 0, 0, 0, 0, 3, 3, 3, 3, 0, 3, 3, 3, 3, 3, 0, 0, 0, 3, 0, 3, 0, 3, 3, 3, 3, 0, 4, 4, 0, 3, 3, 2, 4]\n",
      "Execution time: 0.23761349999995218 seconds\n"
     ]
    }
   ],
   "source": [
    "start_time = time.perf_counter()\n",
    "\n",
    "greedy_dough = Dough_Roll(500,result_dict)\n",
    "\n",
    "while greedy_dough.greedy_add(biscuits):\n",
    "    greedy_dough.greedy_add(biscuits)\n",
    "print(greedy_dough.fitness_evaluator(biscuits),greedy_dough.biscuit_order)\n",
    "\n",
    "end_time = time.perf_counter()\n",
    "execution_time = end_time - start_time\n",
    "print(f\"Execution time: {execution_time} seconds\")"
   ]
  },
  {
   "cell_type": "markdown",
   "metadata": {},
   "source": [
    "local beam search combination length = 0 (same as greed search)"
   ]
  },
  {
   "cell_type": "code",
   "execution_count": 81,
   "metadata": {},
   "outputs": [
    {
     "name": "stdout",
     "output_type": "stream",
     "text": [
      "735 [1, 1, 3, 0, 0, 3, 2, 0, 0, 0, 2, 0, 3, 3, 0, 3, 0, 3, 1, 0, 4, 2, 4, 0, 3, 0, 0, 4, 4, 4, 0, 0, 3, 3, 0, 0, 3, 3, 2, 4, 4, 3, 4, 2, 4, 3, 3, 0, 2, 4, 4, 2, 1, 3, 3, 3, 3, 3, 3, 3, 3, 3, 4, 4, 0, 0, 3, 3, 3, 3, 3, 0, 0, 3, 3, 1, 1, 3, 0, 3, 3, 0, 2, 3, 3, 3, 3, 1, 0, 0, 0, 0, 3, 3, 3, 3, 0, 3, 3, 3, 3, 3, 0, 0, 0, 3, 0, 3, 0, 3, 3, 3, 3, 0, 4, 4, 0, 3, 3, 2, 4]\n",
      "Execution time: 0.2019050999999763 seconds\n"
     ]
    }
   ],
   "source": [
    "start_time = time.perf_counter()\n",
    "\n",
    "greedy_dough = Dough_Roll(500,result_dict)\n",
    "\n",
    "while greedy_dough.greedy_add(biscuits):\n",
    "    greedy_dough.add_one_using_look_ahead(biscuits,0)\n",
    "print(greedy_dough.fitness_evaluator(biscuits),greedy_dough.biscuit_order)\n",
    "\n",
    "end_time = time.perf_counter()\n",
    "execution_time = end_time - start_time\n",
    "print(f\"Execution time: {execution_time} seconds\")"
   ]
  },
  {
   "cell_type": "markdown",
   "metadata": {},
   "source": [
    "local beam search combination length = 3"
   ]
  },
  {
   "cell_type": "code",
   "execution_count": 82,
   "metadata": {},
   "outputs": [
    {
     "name": "stdout",
     "output_type": "stream",
     "text": [
      "746 [1, 1, 3, 0, 0, 2, 3, 0, 0, 4, 3, 0, 3, 0, 3, 3, 0, 1, 3, 0, 4, 2, 4, 0, 3, 0, 0, 4, 4, 4, 0, 0, 3, 3, 0, 0, 3, 1, 4, 1, 4, 3, 3, 4, 0, 2, 4, 2, 1, 3, 3, 3, 3, 3, 3, 3, 3, 4, 3, 4, 0, 0, 3, 3, 3, 3, 3, 0, 0, 3, 3, 1, 1, 3, 0, 0, 3, 1, 3, 0, 3, 0, 0, 3, 0, 0, 0, 0, 3, 3, 3, 0, 3, 3, 3, 3, 3, 3, 0, 0, 0, 3, 0, 0, 3, 3, 3, 3, 3, 4, 0, 4, 0, 0, 3, 0]\n",
      "Execution time: 0.5403186000000915 seconds\n"
     ]
    }
   ],
   "source": [
    "start_time = time.perf_counter()\n",
    "\n",
    "greedy_dough = Dough_Roll(500,result_dict)\n",
    "\n",
    "while greedy_dough.greedy_add(biscuits):\n",
    "    greedy_dough.add_one_using_look_ahead(biscuits,3)\n",
    "print(greedy_dough.fitness_evaluator(biscuits),greedy_dough.biscuit_order)\n",
    "\n",
    "end_time = time.perf_counter()\n",
    "execution_time = end_time - start_time\n",
    "print(f\"Execution time: {execution_time} seconds\")"
   ]
  },
  {
   "cell_type": "markdown",
   "metadata": {},
   "source": [
    "depth first search by randomly adding"
   ]
  },
  {
   "cell_type": "code",
   "execution_count": 83,
   "metadata": {},
   "outputs": [
    {
     "name": "stdout",
     "output_type": "stream",
     "text": [
      "713 [1, 4, 0, 3, 3, 1, 3, 0, 0, 0, 2, 4, 0, 1, 3, 2, 0, 4, 0, 1, 3, 4, 0, 4, 0, 2, 3, 0, 4, 2, 4, 4, 0, 2, 0, 0, 3, 4, 0, 0, 0, 2, 3, 4, 3, 4, 2, 4, 3, 0, 1, 4, 2, 4, 1, 2, 3, 1, 3, 1, 3, 2, 3, 3, 4, 0, 0, 1, 3, 3, 3, 0, 0, 0, 3, 2, 4, 1, 1, 1, 3, 1, 0, 0, 3, 4, 3, 3, 1, 0, 0, 0, 0, 3, 3, 3, 3, 2, 0, 4, 0, 1, 3, 0, 0, 0, 0, 0, 0, 1, 3, 2, 3, 0, 3, 0, 0, 1, 3, 0]\n",
      "Execution time: 0.15002380000009907 seconds\n"
     ]
    }
   ],
   "source": [
    "start_time = time.perf_counter()\n",
    "\n",
    "greedy_dough = Dough_Roll(500,result_dict)\n",
    "\n",
    "while greedy_dough.greedy_add(biscuits):\n",
    "    greedy_dough.random_add(biscuits)\n",
    "print(greedy_dough.fitness_evaluator(biscuits),greedy_dough.biscuit_order)\n",
    "\n",
    "end_time = time.perf_counter()\n",
    "execution_time = end_time - start_time\n",
    "print(f\"Execution time: {execution_time} seconds\")"
   ]
  },
  {
   "cell_type": "markdown",
   "metadata": {},
   "source": [
    "# comparison of the different combination lengths with value and execution times\n",
    "first i stored the results in a table then i plotted it"
   ]
  },
  {
   "cell_type": "code",
   "execution_count": 84,
   "metadata": {},
   "outputs": [
    {
     "name": "stdout",
     "output_type": "stream",
     "text": [
      "735 [1, 1, 3, 0, 0, 3, 2, 0, 0, 0, 2, 0, 3, 3, 0, 3, 0, 3, 1, 0, 4, 2, 4, 0, 3, 0, 0, 4, 4, 4, 0, 0, 3, 3, 0, 0, 3, 3, 2, 4, 4, 3, 4, 2, 4, 3, 3, 0, 2, 4, 4, 2, 1, 3, 3, 3, 3, 3, 3, 3, 3, 3, 4, 4, 0, 0, 3, 3, 3, 3, 3, 0, 0, 3, 3, 1, 1, 3, 0, 3, 3, 0, 2, 3, 3, 3, 3, 1, 0, 0, 0, 0, 3, 3, 3, 3, 0, 3, 3, 3, 3, 3, 0, 0, 0, 3, 0, 3, 0, 3, 3, 3, 3, 0, 4, 4, 0, 3, 3, 2, 4]\n",
      "735 [1, 1, 3, 0, 0, 3, 2, 0, 0, 0, 2, 0, 3, 3, 0, 3, 0, 3, 1, 0, 4, 2, 4, 0, 3, 0, 0, 4, 4, 4, 0, 0, 3, 3, 0, 0, 3, 3, 2, 4, 4, 3, 4, 2, 4, 3, 3, 0, 2, 4, 4, 2, 1, 3, 3, 3, 3, 3, 3, 3, 3, 3, 4, 4, 0, 0, 3, 3, 3, 3, 3, 0, 0, 3, 3, 1, 1, 3, 0, 3, 3, 0, 2, 3, 3, 3, 3, 1, 0, 0, 0, 0, 3, 3, 3, 3, 0, 3, 3, 3, 3, 3, 0, 0, 0, 3, 0, 3, 0, 3, 3, 3, 3, 0, 4, 4, 0, 3, 3, 2, 4]\n",
      "736 [1, 1, 3, 1, 3, 2, 0, 0, 0, 2, 0, 3, 3, 0, 3, 0, 3, 1, 0, 4, 2, 4, 0, 3, 0, 0, 4, 4, 4, 0, 0, 3, 3, 0, 0, 3, 3, 2, 4, 4, 3, 4, 2, 4, 3, 3, 0, 2, 4, 4, 2, 1, 3, 3, 3, 3, 3, 3, 3, 3, 3, 4, 4, 1, 3, 3, 3, 3, 3, 0, 0, 3, 3, 1, 1, 3, 0, 3, 3, 1, 3, 0, 3, 4, 2, 0, 3, 0, 0, 0, 0, 3, 3, 3, 3, 0, 3, 3, 3, 3, 3, 0, 0, 0, 3, 0, 3, 0, 3, 3, 3, 3, 0, 4, 4, 0, 3, 0, 0]\n",
      "746 [1, 1, 3, 0, 0, 2, 3, 0, 0, 4, 3, 0, 3, 0, 3, 3, 0, 1, 3, 0, 4, 2, 4, 0, 3, 0, 0, 4, 4, 4, 0, 0, 3, 3, 0, 0, 3, 1, 4, 1, 4, 3, 3, 4, 0, 2, 4, 2, 1, 3, 3, 3, 3, 3, 3, 3, 3, 4, 3, 4, 0, 0, 3, 3, 3, 3, 3, 0, 0, 3, 3, 1, 1, 3, 0, 0, 3, 1, 3, 0, 3, 0, 0, 3, 0, 0, 0, 0, 3, 3, 3, 0, 3, 3, 3, 3, 3, 3, 0, 0, 0, 3, 0, 0, 3, 3, 3, 3, 3, 4, 0, 4, 0, 0, 3, 0]\n",
      "745 [1, 1, 3, 0, 0, 2, 3, 0, 0, 4, 3, 0, 3, 0, 3, 3, 0, 0, 1, 1, 4, 0, 3, 4, 3, 4, 0, 0, 0, 3, 3, 0, 0, 1, 3, 4, 3, 4, 2, 4, 3, 3, 0, 2, 4, 4, 2, 1, 3, 3, 3, 3, 3, 3, 3, 3, 3, 4, 4, 1, 3, 3, 3, 3, 3, 0, 0, 3, 3, 1, 1, 3, 0, 3, 3, 1, 3, 0, 3, 4, 2, 0, 3, 0, 0, 0, 0, 3, 3, 0, 3, 3, 3, 3, 3, 3, 3, 0, 0, 0, 3, 1, 3, 3, 3, 3, 3, 4, 0, 4, 0, 0, 3, 0]\n",
      "745 [1, 1, 3, 0, 0, 2, 3, 0, 0, 4, 3, 0, 3, 0, 3, 3, 0, 3, 1, 0, 4, 2, 4, 0, 3, 4, 3, 4, 0, 0, 0, 3, 3, 0, 0, 0, 3, 2, 2, 4, 3, 4, 2, 4, 3, 0, 1, 4, 2, 1, 3, 3, 3, 3, 3, 0, 3, 1, 3, 1, 3, 3, 3, 3, 3, 0, 0, 3, 3, 1, 1, 0, 0, 3, 3, 1, 3, 0, 3, 0, 0, 3, 0, 0, 0, 0, 3, 3, 3, 0, 3, 3, 3, 3, 3, 3, 0, 0, 0, 1, 3, 3, 3, 3, 3, 0, 0, 0, 0, 0, 3, 2, 4]\n",
      "748 [1, 1, 3, 0, 0, 2, 3, 0, 0, 4, 3, 0, 3, 0, 3, 0, 0, 1, 3, 1, 4, 0, 3, 4, 3, 4, 0, 0, 0, 3, 3, 0, 0, 0, 3, 2, 2, 4, 3, 4, 2, 4, 3, 0, 1, 4, 2, 1, 3, 3, 3, 3, 3, 0, 3, 1, 3, 1, 3, 3, 3, 3, 3, 0, 0, 3, 3, 1, 1, 3, 0, 0, 3, 1, 3, 0, 3, 0, 0, 3, 0, 0, 0, 0, 3, 3, 3, 0, 3, 3, 3, 3, 3, 3, 0, 0, 0, 1, 3, 3, 3, 3, 3, 0, 0, 0, 0, 0, 3, 2, 4]\n",
      "756 [1, 1, 3, 0, 0, 2, 3, 0, 0, 4, 3, 0, 3, 0, 3, 3, 0, 0, 1, 0, 0, 4, 0, 3, 0, 2, 4, 0, 0, 0, 3, 1, 0, 0, 3, 3, 4, 0, 0, 4, 3, 0, 1, 4, 2, 1, 3, 3, 3, 0, 0, 0, 3, 3, 3, 3, 0, 0, 3, 3, 3, 3, 3, 0, 0, 3, 3, 1, 1, 1, 3, 0, 3, 2, 3, 3, 3, 3, 0, 3, 0, 0, 0, 0, 3, 3, 3, 0, 3, 3, 3, 3, 3, 3, 0, 0, 0, 1, 3, 0, 3, 3, 3, 0, 0, 0, 0, 0, 3, 0]\n"
     ]
    }
   ],
   "source": [
    "combi_length=7\n",
    "table = np.zeros((combi_length+1,3))\n",
    "\n",
    "for i in range (combi_length+1):\n",
    "    start_time = time.perf_counter()\n",
    "\n",
    "    greedy_dough = Dough_Roll(500,result_dict)\n",
    "\n",
    "    while greedy_dough.greedy_add(biscuits):\n",
    "        greedy_dough.add_one_using_look_ahead(biscuits,i)\n",
    "    print(greedy_dough.fitness_evaluator(biscuits),greedy_dough.biscuit_order)\n",
    "\n",
    "    end_time = time.perf_counter()\n",
    "    execution_time = end_time - start_time\n",
    "    table[i] = i,greedy_dough.fitness_evaluator(biscuits),execution_time"
   ]
  },
  {
   "cell_type": "code",
   "execution_count": 85,
   "metadata": {},
   "outputs": [
    {
     "data": {
      "image/png": "[encoded data removed]",
      "text/plain": [
       "<Figure size 720x432 with 2 Axes>"
      ]
     },
     "metadata": {
      "needs_background": "light"
     },
     "output_type": "display_data"
    }
   ],
   "source": [
    "import matplotlib.pyplot as plt\n",
    "\n",
    "iterations = table[:, 0]\n",
    "fitness_values = table[:, 1]\n",
    "execution_times = table[:, 2]\n",
    "\n",
    "# Plotting fitness values against iterations\n",
    "plt.figure(figsize=(10, 6))\n",
    "plt.subplot(2, 1, 1)\n",
    "plt.plot(iterations, fitness_values, marker='o', linestyle='-')\n",
    "plt.title('Fitness Values vs Combination Length')\n",
    "plt.xlabel('Combination Length')\n",
    "plt.ylabel('Fitness Values')\n",
    "plt.grid(True)\n",
    "\n",
    "# Plotting execution times against iterations\n",
    "plt.subplot(2, 1, 2)\n",
    "plt.plot(iterations, execution_times, marker='o', linestyle='-', color='orange')\n",
    "plt.title('Execution Times vs Combination Length')\n",
    "plt.xlabel('Combination Length')\n",
    "plt.ylabel('Execution Time (s)')\n",
    "plt.grid(True)\n",
    "\n",
    "plt.tight_layout()\n",
    "plt.show()"
   ]
  },
  {
   "cell_type": "markdown",
   "metadata": {},
   "source": [
    "# Same but for the random adding of biscuits"
   ]
  },
  {
   "cell_type": "code",
   "execution_count": 93,
   "metadata": {},
   "outputs": [
    {
     "data": {
      "image/png": "[encoded data removed]",
      "text/plain": [
       "<Figure size 720x432 with 2 Axes>"
      ]
     },
     "metadata": {
      "needs_background": "light"
     },
     "output_type": "display_data"
    }
   ],
   "source": [
    "combi_length=50\n",
    "table = np.zeros((combi_length+1,3))\n",
    "\n",
    "for i in range (combi_length+1):\n",
    "    start_time = time.perf_counter()\n",
    "\n",
    "    greedy_dough = Dough_Roll(500,result_dict)\n",
    "\n",
    "    while greedy_dough.greedy_add(biscuits):\n",
    "        greedy_dough.random_add(biscuits)\n",
    "\n",
    "    end_time = time.perf_counter()\n",
    "    execution_time = end_time - start_time\n",
    "    table[i] = i,greedy_dough.fitness_evaluator(biscuits),execution_time\n",
    "\n",
    "import matplotlib.pyplot as plt\n",
    "\n",
    "iterations = table[:, 0]\n",
    "fitness_values = table[:, 1]\n",
    "execution_times = table[:, 2]\n",
    "mean_fitness = np.mean(fitness_values)\n",
    "mean_execution_time = np.mean(execution_times)\n",
    "\n",
    "# Plotting fitness values against iterations\n",
    "plt.figure(figsize=(10, 6))\n",
    "plt.subplot(2, 1, 1)\n",
    "plt.plot(iterations, fitness_values, marker='o', linestyle='-')\n",
    "plt.axhline(y=mean_fitness, color='black', linestyle='-', label=f'Mean: {mean_fitness:.2f}')\n",
    "plt.title('Fitness Values')\n",
    "plt.xlabel('iteration Number')\n",
    "plt.ylabel('Fitness Values')\n",
    "plt.legend()\n",
    "plt.grid(True)\n",
    "\n",
    "# Plotting execution times against iterations\n",
    "plt.subplot(2, 1, 2)\n",
    "plt.plot(iterations, execution_times, marker='o', linestyle='-', color='orange')\n",
    "plt.axhline(y=mean_execution_time, color='black', linestyle='-', label=f'Mean: {mean_execution_time:.4f} s')\n",
    "plt.title('Execution Times')\n",
    "plt.xlabel('iteration Number')\n",
    "plt.ylabel('Execution Time (s)')\n",
    "plt.legend()\n",
    "plt.grid(True)\n",
    "\n",
    "plt.tight_layout()\n",
    "plt.show()"
   ]
  }
 ],
 "metadata": {
  "kernelspec": {
   "display_name": "base",
   "language": "python",
   "name": "python3"
  },
  "language_info": {
   "codemirror_mode": {
    "name": "ipython",
    "version": 3
   },
   "file_extension": ".py",
   "mimetype": "text/x-python",
   "name": "python",
   "nbconvert_exporter": "python",
   "pygments_lexer": "ipython3",
   "version": "3.9.7"
  }
 },
 "nbformat": 4,
 "nbformat_minor": 2
}
